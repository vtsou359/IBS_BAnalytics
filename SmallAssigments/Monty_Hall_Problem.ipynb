{
 "cells": [
  {
   "cell_type": "markdown",
   "id": "221f0f6b",
   "metadata": {},
   "source": [
    "#  Monty Hall Problem \n",
    "## Small Assignment\n"
   ]
  },
  {
   "cell_type": "markdown",
   "id": "fa20fb67",
   "metadata": {},
   "source": [
    "### Introduction:\n",
    "The Monty Hall problem’s origin is from the TV game show 'Let’s Make A Deal', hosted by Monty Hall. This puzzle is also known as the Monty Hall paradox, the three doors problem, the quizmaster problem and the problem of the car and the goats. The problem was introduced by biostatistician Steve Selvin in a letter to the journal The American Statistician. \n",
    "\n",
    "The host, a certain Mr. Monty Hall, shows you three large doors and tells you that behind one of the doors there is a car while behind the other two there are goats. You want to win the car. He asks you to choose a door. After you have made your choice, he opens another door, revealing a goat. He then asks you whether you want to stay with your initial choice or switch to the remaining closed door. Would you switch or stay?\n",
    "\n",
    "The host, naturally, knows in advance which of the three doors hides the car. This means that whichever door you initially choose, he can open a different door and reveal a goat. Not only can he do this, but he certainly will do this. \n",
    "\n",
    "The instinctive, but incorrect, answer of almost all newcomers to the problem is, ‘Stay, since it is equally likely that the car is behind either of the two closed doors that remain’. However, the correct answer is, ‘Switch, since this doubles my chances of winning the car. It goes from one-third to two-thirds’. \n",
    "\n",
    "This problem can be solved using Bayes’ rule. This rule states, in simple words, that if we have two events, A and B, and we are given the conditional probability of A given B denoted P(A|B), we can find P(B|A), the conditional probability of B given A.\n",
    "\n",
    "The equation for Bayes’ rule is as follows:\n",
    "$P(B|A) = \\tfrac{P(A|B)P(B)}{P(A|B)P(B) + P(A|B')P(B')}$ Where P(B') is the probability of B not occurring.\n",
    "\n",
    "Bayes’ rule can prove that switching doors increases your chances of winning the car to an amazing 66 per cent! \n",
    "\n",
    "But how?\n",
    "\n",
    "Using Python code we are going to prove the mathematics behind this.\n",
    "\n"
   ]
  },
  {
   "cell_type": "markdown",
   "id": "e5c68cf3",
   "metadata": {},
   "source": [
    "### Setting up the simulation:\n",
    "So how can we set up a simulation in Python to prove this? \n",
    "\n",
    "We will simulate playing the game 10,000 times (each instance is called a ‘sub-game’). The main logic that underlies this program is that after the contestant picks the first door, the host will open another door to eliminate it; the host will always choose a door that has a goat behind it. If the contestant’s first guess was the correct guess, the host can choose, at random, either of the remaining doors.\n",
    "\n",
    "In the Python code, the doors (i.e. elements) are numbered 1, 2 and 3. In each sub-game, one element of the three is designated as correct (this is the door that has the car behind it) and the other two are designated as incorrect (these are the doors that have the goats behind them). When running the simulation, the last numbered element in the sequence that is NOT the correct answer will be the one that is eliminated. For example, if the correct “door” is numbered 1 in the Python sequence, then the element numbered 3 will be eliminated. If the correct element is numbered 3 in Python, then the element numbered 2 will be eliminated and so on.\n",
    "\n",
    "For the purposes of the simulation, after one element is eliminated, the contestant will always switch their answer. "
   ]
  },
  {
   "cell_type": "markdown",
   "id": "d0ce81c9",
   "metadata": {},
   "source": [
    "### Python code:"
   ]
  },
  {
   "cell_type": "markdown",
   "id": "1de52f03",
   "metadata": {},
   "source": [
    "Import the necessary libraries (numpy, matplotlib etc.)"
   ]
  },
  {
   "cell_type": "code",
   "execution_count": 2,
   "id": "3925f717",
   "metadata": {},
   "outputs": [],
   "source": [
    "%matplotlib inline  \n",
    "import matplotlib\n",
    "import numpy as np  \n",
    "import matplotlib.pyplot as plt  \n",
    "from time import time as TT\n",
    "from random import choice as ch  \n",
    "import numpy as np  "
   ]
  },
  {
   "cell_type": "markdown",
   "id": "77f3f5bb",
   "metadata": {},
   "source": [
    "Initialise variables:\n",
    "    "
   ]
  },
  {
   "cell_type": "code",
   "execution_count": 6,
   "id": "c74fe2fd",
   "metadata": {},
   "outputs": [],
   "source": [
    "ac = []  \n",
    "tc = []  \n",
    "N = []  \n",
    "st = TT()  "
   ]
  },
  {
   "cell_type": "markdown",
   "id": "7d3c414b",
   "metadata": {},
   "source": [
    "Monty Hall Algorithm:"
   ]
  },
  {
   "cell_type": "code",
   "execution_count": 7,
   "id": "0305312c",
   "metadata": {},
   "outputs": [
    {
     "name": "stderr",
     "output_type": "stream",
     "text": [
      "C:\\Users\\FH668VD\\Anaconda3\\lib\\site-packages\\numpy\\core\\fromnumeric.py:3440: RuntimeWarning: Mean of empty slice.\n",
      "  return _methods._mean(a, axis=axis, dtype=dtype,\n",
      "C:\\Users\\FH668VD\\Anaconda3\\lib\\site-packages\\numpy\\core\\_methods.py:189: RuntimeWarning: invalid value encountered in double_scalars\n",
      "  ret = ret.dtype.type(ret / rcount)\n"
     ]
    }
   ],
   "source": [
    "for M in range(1,10000): #Outer loop from 1 to 10000  \n",
    "    st1 = TT()  \n",
    "    score = []  \n",
    "    runs = 0  \n",
    "    cards = [1,2,3]  \n",
    "    for K in range(1,M): # sub loop that simulates 1 to M(outerloop) games  \n",
    "        aset = []  \n",
    "        host = cards.copy()  \n",
    "        hbk = ch(host) #Randomly choose as answer which host knows  \n",
    "        aset.append(hbk)  \n",
    "        #print(\"The host knows the answer\",hbk)  \n",
    "        player = cards.copy()  \n",
    "        px = ch(player) # Contestanrs random guess  \n",
    "        aset.append(px)  \n",
    "        #print (\"Players first choice\",px)  \n",
    "        chance = 0  \n",
    "        for i in host: # The computation....host will eliminate P(X|DOOR) = 0  \n",
    "            if i not in aset:  \n",
    "                chance = i  \n",
    "        #print (\"The elimination\",chance)  \n",
    "        #print (player)  \n",
    "        player.pop(player.index(chance))  \n",
    "        player.pop(player.index(px))  \n",
    "        #print (\"final answe\",player)  \n",
    "        if player[0] == hbk:  \n",
    "            score.append(1)  \n",
    "        else:  \n",
    "            score.append(0)  \n",
    "        runs = K  \n",
    "        #print (\"\\n\\n\")  \n",
    "    ac.append(np.mean(score))  \n",
    "    N.append(M)  \n",
    "    en1 = TT()  \n",
    "    tc.append(en1-st1) \n"
   ]
  },
  {
   "cell_type": "code",
   "execution_count": 8,
   "id": "6f670861",
   "metadata": {},
   "outputs": [
    {
     "name": "stdout",
     "output_type": "stream",
     "text": [
      "Total time for Loop   102.18462228775024\n"
     ]
    }
   ],
   "source": [
    "en = TT()      \n",
    "print (\"Total time for Loop  \", en - st )  \n"
   ]
  },
  {
   "cell_type": "markdown",
   "id": "6cfc2078",
   "metadata": {},
   "source": [
    "#### Running the simulation 10,000 times, we achieve the following results:"
   ]
  },
  {
   "cell_type": "code",
   "execution_count": 25,
   "id": "fea2c7a4",
   "metadata": {},
   "outputs": [
    {
     "data": {
      "image/png": "[encoded data removed]",
      "text/plain": [
       "<Figure size 640x480 with 1 Axes>"
      ]
     },
     "metadata": {},
     "output_type": "display_data"
    }
   ],
   "source": [
    "fig, ax = plt.subplots()\n",
    "\n",
    "ax.plot(N, ac)\n",
    "ax.set_title(\"Monty Hall\")\n",
    "ax.set_ylabel(\"Average proportion of sub-games won\")\n",
    "ax.set_xlabel(\"Number of sub-games that were played\")\n",
    "\n",
    "plt.show()"
   ]
  },
  {
   "cell_type": "markdown",
   "id": "c93342f7",
   "metadata": {},
   "source": [
    "#### Conclusion:\n",
    "After the 2000th mark and close to 10,000, the average proportion of sub-games won converges to around 64 per cent to 68 per cent (maximum 70). This supports the initial reasoning that this problem could be solved using Bayes’ rule (which stated that if we switch the doors, we have a 2/3 probability of winning)."
   ]
  }
 ],
 "metadata": {
  "kernelspec": {
   "display_name": "Python 3 (ipykernel)",
   "language": "python",
   "name": "python3"
  },
  "language_info": {
   "codemirror_mode": {
    "name": "ipython",
    "version": 3
   },
   "file_extension": ".py",
   "mimetype": "text/x-python",
   "name": "python",
   "nbconvert_exporter": "python",
   "pygments_lexer": "ipython3",
   "version": "3.10.6"
  }
 },
 "nbformat": 4,
 "nbformat_minor": 5
}
